{
  "nbformat": 4,
  "nbformat_minor": 0,
  "metadata": {
    "colab": {
      "provenance": [],
      "authorship_tag": "ABX9TyP88L1eqsbXE8ia/r4K5WU7",
      "include_colab_link": true
    },
    "kernelspec": {
      "name": "python3",
      "display_name": "Python 3"
    },
    "language_info": {
      "name": "python"
    }
  },
  "cells": [
    {
      "cell_type": "markdown",
      "metadata": {
        "id": "view-in-github",
        "colab_type": "text"
      },
      "source": [
        "<a href=\"https://colab.research.google.com/github/ilafmakke/beginner_python/blob/main/python_beginer.ipynb\" target=\"_parent\"><img src=\"https://colab.research.google.com/assets/colab-badge.svg\" alt=\"Open In Colab\"/></a>"
      ]
    },
    {
      "cell_type": "markdown",
      "source": [
        "# New Section print inout code"
      ],
      "metadata": {
        "id": "oNGfqk1bsqRY"
      }
    },
    {
      "cell_type": "code",
      "source": [
        "x=4"
      ],
      "metadata": {
        "id": "aNwpVvyFq5OG"
      },
      "execution_count": 1,
      "outputs": []
    },
    {
      "cell_type": "code",
      "source": [
        "print(x)"
      ],
      "metadata": {
        "colab": {
          "base_uri": "https://localhost:8080/"
        },
        "id": "IosYeCYtuEXe",
        "outputId": "fe6f0f4f-16df-4922-8f25-c2358f5d3b13"
      },
      "execution_count": 2,
      "outputs": [
        {
          "output_type": "stream",
          "name": "stdout",
          "text": [
            "4\n"
          ]
        }
      ]
    },
    {
      "cell_type": "code",
      "source": [
        "x=\"alaf\"\n",
        "print(x)"
      ],
      "metadata": {
        "colab": {
          "base_uri": "https://localhost:8080/"
        },
        "id": "n6vhZig5uR6F",
        "outputId": "36ea8291-ed67-407c-cd2f-9f61a6111c8b"
      },
      "execution_count": 3,
      "outputs": [
        {
          "output_type": "stream",
          "name": "stdout",
          "text": [
            "alaf\n"
          ]
        }
      ]
    },
    {
      "cell_type": "code",
      "source": [
        "height = float(input(\"Enter height: \"))\n",
        "width = float(input(\"Enter width: \"))\n",
        "\n",
        "area = width * height\n",
        "print(\"Area of the rectangle =\", area)\n",
        "print(f\"Area of the rectangle = {area} final result\")"
      ],
      "metadata": {
        "colab": {
          "base_uri": "https://localhost:8080/"
        },
        "id": "f1uuR36vD-6C",
        "outputId": "55dae81f-33ab-47e9-bf7e-6eb530c4f2d7"
      },
      "execution_count": 11,
      "outputs": [
        {
          "output_type": "stream",
          "name": "stdout",
          "text": [
            "Enter height: 2\n",
            "Enter width: 3\n",
            "Area of the rectangle = 6.0\n",
            "Area of the rectangle = 6.0 final result\n"
          ]
        }
      ]
    },
    {
      "cell_type": "code",
      "source": [
        "marks = 80\n",
        "result = \"\"\n",
        "if marks < 30:\n",
        "   result = \"Failed\"\n",
        "   print(\"session cloesd\")\n",
        "elif marks > 75:\n",
        "   result = \"Passed with distinction\"\n",
        "else:\n",
        "   result = \"Passed\"\n",
        "print(result)"
      ],
      "metadata": {
        "colab": {
          "base_uri": "https://localhost:8080/"
        },
        "id": "2ZBfhMhIEC2a",
        "outputId": "e0bac79e-01fb-4fe7-a11c-b48a77f2644e"
      },
      "execution_count": 14,
      "outputs": [
        {
          "output_type": "stream",
          "name": "stdout",
          "text": [
            "Passed with distinction\n"
          ]
        }
      ]
    },
    {
      "cell_type": "markdown",
      "source": [
        "*if statement*# New Section"
      ],
      "metadata": {
        "id": "DJNXgVplzftP"
      }
    },
    {
      "cell_type": "code",
      "source": [
        "x = int(input(\"Please enter #:\"))\n",
        "if x < 0:\n",
        "  print(\"x negative\")\n",
        "else:\n",
        " print(\"x positive\")"
      ],
      "metadata": {
        "colab": {
          "base_uri": "https://localhost:8080/"
        },
        "id": "0VFVhya1Gwci",
        "outputId": "e71502f5-367c-408b-c7c0-9fc3bfd86487"
      },
      "execution_count": 16,
      "outputs": [
        {
          "output_type": "stream",
          "name": "stdout",
          "text": [
            "Please enter #:4\n",
            "x positive\n"
          ]
        }
      ]
    },
    {
      "cell_type": "code",
      "source": [
        "x = int(input(\"Please enter #:\"))\n",
        "if x < 0:\n",
        "  x = 0\n",
        "  print (\"Negative changed to zero\")\n",
        "elif x == 0:\n",
        "  print (\"Zero\")\n",
        "elif x == 1:\n",
        "  print(\"Single\")\n",
        "else:\n",
        "  print (\"More\")\n"
      ],
      "metadata": {
        "colab": {
          "base_uri": "https://localhost:8080/"
        },
        "id": "pN2YdmAs3dXM",
        "outputId": "a9a95701-5260-4f72-be31-0a8c9236e317"
      },
      "execution_count": 18,
      "outputs": [
        {
          "output_type": "stream",
          "name": "stdout",
          "text": [
            "Please enter #:-1\n",
            "Negative changed to zero\n"
          ]
        }
      ]
    },
    {
      "cell_type": "code",
      "source": [
        "words = [\"one\", \"two\", \"three\"]\n",
        "for x in words:\n",
        "  print(x,len(x))"
      ],
      "metadata": {
        "colab": {
          "base_uri": "https://localhost:8080/"
        },
        "id": "4Tem2GgnFpfs",
        "outputId": "34e5554f-fc69-4d7e-b06e-d87d86182cd7"
      },
      "execution_count": null,
      "outputs": [
        {
          "output_type": "stream",
          "name": "stdout",
          "text": [
            "one 3\n",
            "two 3\n",
            "three 5\n"
          ]
        }
      ]
    },
    {
      "cell_type": "code",
      "source": [
        "a = ['spam', 'eggs', 100, 1234, 2*2]\n",
        "for i in range(len(a)):\n",
        "\t\tprint (i, a[i])\n",
        "\n"
      ],
      "metadata": {
        "colab": {
          "base_uri": "https://localhost:8080/"
        },
        "id": "l_dNKVMsISS3",
        "outputId": "5bc43e2d-68cc-44aa-dc5c-7a717730bee9"
      },
      "execution_count": 27,
      "outputs": [
        {
          "output_type": "stream",
          "name": "stdout",
          "text": [
            "0 spam\n",
            "1 eggs\n",
            "2 100\n",
            "3 1234\n",
            "4 4\n"
          ]
        }
      ]
    },
    {
      "cell_type": "code",
      "source": [
        "for n in range(2,20):\n",
        "  for x in range(2,n):\n",
        "    if n % x == 0:\n",
        "      print (n, 'equals', x, '*', n/x)\n",
        "      break\n",
        "  else:\n",
        "    # loop fell through without finding a factor\n",
        "    print (n, 'is prime')"
      ],
      "metadata": {
        "colab": {
          "base_uri": "https://localhost:8080/"
        },
        "id": "rkRmJIdUIiLc",
        "outputId": "ba24b57c-1931-45ba-fe43-a2b93dfd3a9f"
      },
      "execution_count": 28,
      "outputs": [
        {
          "output_type": "stream",
          "name": "stdout",
          "text": [
            "2 is prime\n",
            "3 is prime\n",
            "4 equals 2 * 2.0\n",
            "5 is prime\n",
            "6 equals 2 * 3.0\n",
            "7 is prime\n",
            "8 equals 2 * 4.0\n",
            "9 equals 3 * 3.0\n",
            "10 equals 2 * 5.0\n",
            "11 is prime\n",
            "12 equals 2 * 6.0\n",
            "13 is prime\n",
            "14 equals 2 * 7.0\n",
            "15 equals 3 * 5.0\n",
            "16 equals 2 * 8.0\n",
            "17 is prime\n",
            "18 equals 2 * 9.0\n",
            "19 is prime\n"
          ]
        }
      ]
    },
    {
      "cell_type": "code",
      "source": [
        "i = 1\n",
        "while i < 6:\n",
        "  print(i)\n",
        "  i += 1"
      ],
      "metadata": {
        "colab": {
          "base_uri": "https://localhost:8080/"
        },
        "id": "lyyhpblvFtty",
        "outputId": "a8043e01-f53d-4ca3-dd5f-3a62d1872091"
      },
      "execution_count": 21,
      "outputs": [
        {
          "output_type": "stream",
          "name": "stdout",
          "text": [
            "1\n",
            "2\n",
            "3\n",
            "4\n",
            "5\n"
          ]
        }
      ]
    },
    {
      "cell_type": "code",
      "source": [
        "for i in range(1,6,1):\n",
        "   print(i)\n",
        ""
      ],
      "metadata": {
        "colab": {
          "base_uri": "https://localhost:8080/"
        },
        "id": "2wDoeXpc7yr6",
        "outputId": "21f89a0a-50ff-4c9d-8116-fd0864f930db"
      },
      "execution_count": 26,
      "outputs": [
        {
          "output_type": "stream",
          "name": "stdout",
          "text": [
            "1\n",
            "2\n",
            "3\n",
            "4\n",
            "5\n"
          ]
        }
      ]
    },
    {
      "cell_type": "code",
      "source": [
        "a = ['spam', 'eggs', 100, 1234, 2*2]\n",
        "a[0]\n",
        "a[len(a)-1] # = a[-1]\n"
      ],
      "metadata": {
        "colab": {
          "base_uri": "https://localhost:8080/"
        },
        "id": "NI8yTZk5GPPu",
        "outputId": "ba15e599-4e9c-4566-93cf-014b87c54b14"
      },
      "execution_count": 32,
      "outputs": [
        {
          "output_type": "execute_result",
          "data": {
            "text/plain": [
              "4"
            ]
          },
          "metadata": {},
          "execution_count": 32
        }
      ]
    },
    {
      "cell_type": "code",
      "source": [
        "a[1:]"
      ],
      "metadata": {
        "colab": {
          "base_uri": "https://localhost:8080/"
        },
        "id": "IErp6ZgOGoH6",
        "outputId": "01b97c49-9cb0-444a-d696-20875ce17337"
      },
      "execution_count": 35,
      "outputs": [
        {
          "output_type": "execute_result",
          "data": {
            "text/plain": [
              "['eggs', 100, 1234, 4]"
            ]
          },
          "metadata": {},
          "execution_count": 35
        }
      ]
    },
    {
      "cell_type": "code",
      "source": [
        "def greetings(name):\n",
        "   \"This is docstring of greetings function\"\n",
        "   print (\"Hello {}\".format(name))\n",
        "\n",
        "greetings(\"Samay\")\n",
        "greetings(\"Pratima\")\n",
        "greetings(\"Steven\")"
      ],
      "metadata": {
        "colab": {
          "base_uri": "https://localhost:8080/"
        },
        "id": "hkklA6EtJgVm",
        "outputId": "ed2a845a-ee18-46e4-f046-312e11b3a5a2"
      },
      "execution_count": null,
      "outputs": [
        {
          "output_type": "stream",
          "name": "stdout",
          "text": [
            "Hello Samay\n",
            "Hello Pratima\n",
            "Hello Steven\n"
          ]
        }
      ]
    },
    {
      "cell_type": "code",
      "source": [
        "def add(x,y):\n",
        "   z=x+y\n",
        "   return z\n",
        "\n",
        "a=10\n",
        "b=20\n",
        "result = add(a,b)\n",
        "print (\"a = {} b = {} a+b = {}\".format(a, b, result))\n",
        "print (f\"a = {a} b = {b} a+b = {result}\")"
      ],
      "metadata": {
        "colab": {
          "base_uri": "https://localhost:8080/"
        },
        "id": "ZXz2BXurJory",
        "outputId": "79cb456c-0b7e-43b5-c1fd-87729beddbd0"
      },
      "execution_count": null,
      "outputs": [
        {
          "output_type": "stream",
          "name": "stdout",
          "text": [
            "a = 10 b = 20 a+b = 30\n",
            "a = 10 b = 20 a+b = 30\n"
          ]
        }
      ]
    },
    {
      "cell_type": "code",
      "source": [
        "x = 5\n",
        "y = 10\n",
        "def sum():\n",
        "    x=3\n",
        "    sum = x + y\n",
        "    return sum\n",
        "print(sum())\n",
        "print(x)\n"
      ],
      "metadata": {
        "colab": {
          "base_uri": "https://localhost:8080/"
        },
        "id": "dgQaZ3IEK4JX",
        "outputId": "d867797c-7028-4fe4-8b92-30b5b4b7ff22"
      },
      "execution_count": null,
      "outputs": [
        {
          "output_type": "stream",
          "name": "stdout",
          "text": [
            "13\n",
            "5\n"
          ]
        }
      ]
    },
    {
      "cell_type": "code",
      "source": [
        "var1 = 50 # this is a global variable\n",
        "var2 = 60 # this is a global variable\n",
        "def myfunction():\n",
        "   \"Change values of global variables\"\n",
        "   globals()['var1'] = globals()['var1']+10\n",
        "   global var2\n",
        "   var2 = var2 + 20\n",
        "\n",
        "myfunction()\n",
        "print (\"var1:\",var1, \"var2:\",var2) #shows global variables with changed values"
      ],
      "metadata": {
        "colab": {
          "base_uri": "https://localhost:8080/"
        },
        "id": "--ekhCs1Lk8s",
        "outputId": "c36272f3-6beb-4320-825c-3156619ef451"
      },
      "execution_count": null,
      "outputs": [
        {
          "output_type": "stream",
          "name": "stdout",
          "text": [
            "var1: 60 var2: 80\n"
          ]
        }
      ]
    },
    {
      "cell_type": "markdown",
      "source": [
        "# New Section list tuple set"
      ],
      "metadata": {
        "id": "I8zx-dwgLz4S"
      }
    },
    {
      "cell_type": "code",
      "source": [
        "list1 = [\"Rohan\", \"Physics\", 21, 69.75]\n",
        "list2 = [1, 2, 3, 4, 5,6,7]\n",
        "list4 = [\"Rohan\", \"Physics\", 21, 69.75]\n",
        "list3 = [1, 2, 3, 4, 5]\n",
        "print (\"Item at 0th index in list1: \", list1[0])\n",
        "print (\"Item at index 2 in list2: \", list2[2])\n",
        "print(\"*************\")\n",
        "print (\"Item at 0th index in list1: \", list1[-1])\n",
        "print (\"Item at index 2 in list2: \", list2[-3])\n",
        "print(\"*************\")\n",
        "print (\"Items from index 1 to 2 in list1: \", list1[1:3])\n",
        "print (\"Items from index 0 to 1 in list2: \", list2[0:2])\n",
        "print(\"*************\")\n",
        "print (\"Items from index 1 to last in list1: \", list1[1:])\n",
        "print (\"Items from index 0 to 1 in list2: \", list2[:2])\n",
        "print (\"Items from index 2 to last in list3\", list3[2:-1])\n",
        "print (\"Items from index 0 to index last in list4\", list4[:])"
      ],
      "metadata": {
        "colab": {
          "base_uri": "https://localhost:8080/"
        },
        "id": "rY20RwWBL7wS",
        "outputId": "1ccc5883-5bf4-4f03-f739-1a0a17e65853"
      },
      "execution_count": null,
      "outputs": [
        {
          "output_type": "stream",
          "name": "stdout",
          "text": [
            "Item at 0th index in list1:  Rohan\n",
            "Item at index 2 in list2:  3\n",
            "*************\n",
            "Item at 0th index in list1:  69.75\n",
            "Item at index 2 in list2:  3\n",
            "*************\n",
            "Items from index 1 to 2 in list1:  ['Physics', 21]\n",
            "Items from index 0 to 1 in list2:  [1, 2]\n",
            "*************\n",
            "Items from index 1 to last in list1:  ['Physics', 21, 69.75]\n",
            "Items from index 0 to 1 in list2:  [1, 2]\n",
            "Items from index 2 to last in list3 [3, 4]\n",
            "Items from index 0 to index last in list4 ['Rohan', 'Physics', 21, 69.75]\n"
          ]
        }
      ]
    },
    {
      "cell_type": "code",
      "source": [
        "list3 = [1, 2, 3, 4, 5]\n",
        "list3[2] = 10\n",
        "print (\"List after changing value at index 2: \", list3)"
      ],
      "metadata": {
        "colab": {
          "base_uri": "https://localhost:8080/"
        },
        "id": "bIyhK-jmMjXz",
        "outputId": "425a88fe-e6b7-4ca5-ac26-4ad1d3ca9740"
      },
      "execution_count": null,
      "outputs": [
        {
          "output_type": "stream",
          "name": "stdout",
          "text": [
            "List after changing value at index 2:  [1, 2, 10, 4, 5]\n"
          ]
        }
      ]
    },
    {
      "cell_type": "code",
      "source": [
        "\n",
        "list1 = [\"a\", \"b\", \"c\", \"d\"]\n",
        "print (\"Original list: \", list1)\n",
        "list2 = ['Z']\n",
        "list1[1:3] = list2\n",
        "print (\"List after changing with sublist: \", list1)"
      ],
      "metadata": {
        "colab": {
          "base_uri": "https://localhost:8080/"
        },
        "id": "xM7Hg_kcM1BT",
        "outputId": "33ad4f9a-3b84-4d65-9881-bdccfb896d49"
      },
      "execution_count": null,
      "outputs": [
        {
          "output_type": "stream",
          "name": "stdout",
          "text": [
            "Original list:  ['a', 'b', 'c', 'd']\n",
            "List after changing with sublist:  ['a', 'Z', 'd']\n"
          ]
        }
      ]
    },
    {
      "cell_type": "code",
      "source": [
        "lst = [25, 12, 10, -21, 10, 100]\n",
        "indices = range(len(lst))\n",
        "print(indices)\n",
        "for i in indices:\n",
        "  print (f\"lst[{i}]: \", lst[i])\n",
        "  # print (\"lst[{}]: \".format(i), lst[i])\n",
        "  #print (\"lst[\",i,\"]:\", lst[i])"
      ],
      "metadata": {
        "colab": {
          "base_uri": "https://localhost:8080/"
        },
        "id": "kX05Is2dNCJr",
        "outputId": "dd97e129-bc20-48d8-c75c-0f0b1f7b3188"
      },
      "execution_count": 37,
      "outputs": [
        {
          "output_type": "stream",
          "name": "stdout",
          "text": [
            "range(0, 6)\n",
            "lst[0]:  25\n",
            "lst[1]:  12\n",
            "lst[2]:  10\n",
            "lst[3]:  -21\n",
            "lst[4]:  10\n",
            "lst[5]:  100\n"
          ]
        }
      ]
    },
    {
      "cell_type": "code",
      "source": [
        "tup1 = (\"Rohan\", \"Physics\", 21, 69.75)\n",
        "tup2 = (1, 2, 3, 4, 5)\n",
        "\n",
        "print (\"Item at 0th index in tup1tup2: \", tup1[0])\n",
        "print (\"Item at index 2 in list2: \", tup2[2])\n",
        "print(\"*************\")\n",
        "print (\"Items from index 1 to 2 in tup1: \", tup1[1:3])\n",
        "print (\"Items from index 0 to 1 in tup2: \", tup2[0:2])\n",
        "print(\"*************\")\n",
        "print (\"Items from index 1 to last in tup1: \", tup1[1:])\n",
        "print (\"Items from index 0 to 1 in tup2: \", tup2[:2])\n",
        "print (\"Items from index 2 to last in tup3\", tup2[2:-1])\n",
        "print (\"Items from index 0 to index last in tup4\", tup2[:])"
      ],
      "metadata": {
        "colab": {
          "base_uri": "https://localhost:8080/"
        },
        "id": "NQvWPqRoN5oi",
        "outputId": "74696dc5-c785-4381-b9c9-7390bc633777"
      },
      "execution_count": null,
      "outputs": [
        {
          "output_type": "stream",
          "name": "stdout",
          "text": [
            "Item at 0th index in tup1tup2:  Rohan\n",
            "Item at index 2 in list2:  3\n",
            "*************\n",
            "Items from index 1 to 2 in tup1:  ('Physics', 21)\n",
            "Items from index 0 to 1 in tup2:  (1, 2)\n",
            "*************\n",
            "Items from index 1 to last in tup1:  ('Physics', 21, 69.75)\n",
            "Items from index 0 to 1 in tup2:  (1, 2)\n",
            "Items from index 2 to last in tup3 (3, 4)\n",
            "Items from index 0 to index last in tup4 (1, 2, 3, 4, 5)\n"
          ]
        }
      ]
    },
    {
      "cell_type": "code",
      "source": [
        "#error code update tuple\n",
        "tup1 = (\"a\", \"b\", \"c\", \"d\")\n",
        "tup1[2] = 'Z'\n",
        "print (\"tup1: \", tup1)"
      ],
      "metadata": {
        "id": "05gmuBUTOKK8"
      },
      "execution_count": null,
      "outputs": []
    },
    {
      "cell_type": "code",
      "source": [
        "#trick to modify the content of tuple\n",
        "tup1 = (\"a\", \"b\", \"c\", \"d\")\n",
        "print (\"Tuple before update\", tup1, \"id(): \", id(tup1))\n",
        "\n",
        "list1 = list(tup1)\n",
        "list1[2]='F'\n",
        "list1.append('Z')\n",
        "list1.sort()\n",
        "print (\"updated list\", list1)\n",
        "\n",
        "tup1 = tuple(list1)\n",
        "print (\"Tuple after update\", tup1, \"id(): \", id(tup1))"
      ],
      "metadata": {
        "id": "LKDlpSYKOimN"
      },
      "execution_count": null,
      "outputs": []
    },
    {
      "cell_type": "code",
      "source": [
        "#unpack tuple\n",
        "tup1 = (10,20,30)\n",
        "x, y, z = tup1\n",
        "print (\"x: \", x, \"y: \", \"z: \",z)"
      ],
      "metadata": {
        "colab": {
          "base_uri": "https://localhost:8080/"
        },
        "id": "eLd26o2HPB7K",
        "outputId": "10e7d87e-fa47-4549-ae6b-d2ff5f5736bd"
      },
      "execution_count": null,
      "outputs": [
        {
          "output_type": "stream",
          "name": "stdout",
          "text": [
            "x:  10 y:  z:  30\n"
          ]
        }
      ]
    },
    {
      "cell_type": "code",
      "source": [
        "tup1 = (10,20,30, 40, 50, 60)\n",
        "x, *y, z = tup1\n",
        "print (\"x: \",x, \"y: \", y, \"z: \", z)\n",
        "x, *y = tup1\n",
        "print (\"x: \",x, \"y: \", y)"
      ],
      "metadata": {
        "colab": {
          "base_uri": "https://localhost:8080/"
        },
        "id": "hdPPnRVUPKMq",
        "outputId": "2a1bca1e-fa56-4b7e-8aa7-e69f103b134a"
      },
      "execution_count": null,
      "outputs": [
        {
          "output_type": "stream",
          "name": "stdout",
          "text": [
            "x:  10 y:  [20, 30, 40, 50] z:  60\n",
            "x:  10 y:  [20, 30, 40, 50, 60]\n"
          ]
        }
      ]
    },
    {
      "cell_type": "code",
      "source": [
        "my_list = [1, 2, 3, 2, 4, 5]  # List with duplicates\n",
        "my_set = {1, 2, 3, 2, 4, 5}  # Set (duplicates are automatically removed)\n",
        "\n",
        "print(my_list)  # Output: [1, 2, 3, 2, 4, 5]\n",
        "print(my_set)   # Output: {1, 2, 3, 4, 5}"
      ],
      "metadata": {
        "colab": {
          "base_uri": "https://localhost:8080/"
        },
        "id": "mrjoESwVP4KK",
        "outputId": "87244998-11df-40ab-df68-b387cdaff60d"
      },
      "execution_count": null,
      "outputs": [
        {
          "output_type": "stream",
          "name": "stdout",
          "text": [
            "[1, 2, 3, 2, 4, 5]\n",
            "{1, 2, 3, 4, 5}\n"
          ]
        }
      ]
    },
    {
      "cell_type": "code",
      "source": [
        "capitals = {\"Maharashtra\":\"Mumbai\", \"Gujarat\":\"Gandhinagar\", \"Telangana\":\"Hyderabad\", \"Karnataka\":\"Bengaluru\"}\n",
        "print (\"Capital of Gujarat is: \", capitals.get('Gujarat'))\n",
        "print (\"Capital of Karnataka is: \", capitals.get('Karnataka')) #Val = dict.get(\"key\")"
      ],
      "metadata": {
        "colab": {
          "base_uri": "https://localhost:8080/"
        },
        "id": "GNNO2GArQpwS",
        "outputId": "e6f33efa-7c5c-43c4-a749-88a902d65db5"
      },
      "execution_count": null,
      "outputs": [
        {
          "output_type": "stream",
          "name": "stdout",
          "text": [
            "Capital of Gujarat is:  Gandhinagar\n",
            "Capital of Karnataka is:  Bengaluru\n"
          ]
        }
      ]
    },
    {
      "cell_type": "code",
      "source": [
        "#If it is given, and if the key is not found, this string becomes the return value.\n",
        "capitals = {\"Maharashtra\":\"Mumbai\", \"Gujarat\":\"Gandhinagar\", \"Telangana\":\"Hyderabad\", \"Karnataka\":\"Bengaluru\"}\n",
        "print (\"Capital of Haryana is : \", capitals.get('Haryana', 'Not found'))"
      ],
      "metadata": {
        "colab": {
          "base_uri": "https://localhost:8080/"
        },
        "id": "E89bhBfJQ0Ni",
        "outputId": "50a059bc-a564-4ef9-f29b-1896559004d9"
      },
      "execution_count": null,
      "outputs": [
        {
          "output_type": "stream",
          "name": "stdout",
          "text": [
            "Capital of Haryana is :  Not found\n"
          ]
        }
      ]
    },
    {
      "cell_type": "code",
      "source": [
        "numbers = {10:\"Ten\", 20:\"Twenty\", 30:\"Thirty\",40:\"Forty\"}\n",
        "for x in numbers:\n",
        "   print (x,\":\",numbers[x])"
      ],
      "metadata": {
        "colab": {
          "base_uri": "https://localhost:8080/"
        },
        "id": "d5pLJvSBQ-z4",
        "outputId": "b31842b9-f38f-4bbb-dab4-4be6ec052f53"
      },
      "execution_count": null,
      "outputs": [
        {
          "output_type": "stream",
          "name": "stdout",
          "text": [
            "10 : Ten\n",
            "20 : Twenty\n",
            "30 : Thirty\n",
            "40 : Forty\n"
          ]
        }
      ]
    },
    {
      "cell_type": "code",
      "source": [
        "numbers = {10:\"Ten\", 20:\"Twenty\", 30:\"Thirty\",40:\"Forty\"}\n",
        "for x,y in numbers.items():#for x in numbers.keys():\n",
        "   print (x,\":\", y)#  print (x, \":\", numbers[x])"
      ],
      "metadata": {
        "colab": {
          "base_uri": "https://localhost:8080/"
        },
        "id": "C_f3CEyTReCr",
        "outputId": "44984757-0fbe-4f68-9aff-e45a2d2d3ea7"
      },
      "execution_count": null,
      "outputs": [
        {
          "output_type": "stream",
          "name": "stdout",
          "text": [
            "10 : Ten\n",
            "20 : Twenty\n",
            "30 : Thirty\n",
            "40 : Forty\n"
          ]
        }
      ]
    },
    {
      "cell_type": "code",
      "source": [
        "numbers = {10:\"Ten\", 20:\"Twenty\", 30:\"Thirty\",40:\"Forty\"}\n",
        "for x in numbers.keys():\n",
        "  print (x, \":\", numbers[x])"
      ],
      "metadata": {
        "colab": {
          "base_uri": "https://localhost:8080/"
        },
        "id": "_vEOBY_6R0RM",
        "outputId": "70e9a59e-922c-4c08-ee34-041c07685538"
      },
      "execution_count": null,
      "outputs": [
        {
          "output_type": "stream",
          "name": "stdout",
          "text": [
            "10 : Ten\n",
            "20 : Twenty\n",
            "30 : Thirty\n",
            "40 : Forty\n"
          ]
        }
      ]
    },
    {
      "cell_type": "code",
      "source": [
        "# Open a file\n",
        "fo = open(\"foo.txt\", \"w\")\n",
        "fo.write( \"Python is a great language.\\nYeah its great!!\\n\")\n",
        "\n",
        "# Close opened file\n",
        "fo.close()"
      ],
      "metadata": {
        "id": "aCOOgx8ZSHZ0"
      },
      "execution_count": null,
      "outputs": []
    },
    {
      "cell_type": "code",
      "source": [
        "f=open('test.bin', 'wb')\n",
        "data=b\"Hello World\"\n",
        "f.write(data)\n",
        "f.close()"
      ],
      "metadata": {
        "id": "FCdH6rLrSM6C"
      },
      "execution_count": null,
      "outputs": []
    },
    {
      "cell_type": "code",
      "source": [
        "# Open a file in append mode\n",
        "fo = open(\"foo.txt\", \"a\")\n",
        "text = \"TutorialsPoint has a fabulous Python tutorial\"\n",
        "fo.write(text)\n",
        "\n",
        "# Close opened file\n",
        "fo.close()"
      ],
      "metadata": {
        "id": "2fqyLwqfSTrp"
      },
      "execution_count": null,
      "outputs": []
    },
    {
      "cell_type": "code",
      "source": [
        "# Open a file\n",
        "fo = open(\"foo.txt\", \"r\")\n",
        "text = fo.read()\n",
        "print (text)\n",
        "\n",
        "# Close the opened file\n",
        "fo.close()"
      ],
      "metadata": {
        "colab": {
          "base_uri": "https://localhost:8080/"
        },
        "id": "ygeTGIHZSmP9",
        "outputId": "39546b3c-e28e-47cc-fe8c-ecd6b4815c86"
      },
      "execution_count": null,
      "outputs": [
        {
          "output_type": "stream",
          "name": "stdout",
          "text": [
            "Python is a great language.\n",
            "Yeah its great!!\n",
            "TutorialsPoint has a fabulous Python tutorial\n"
          ]
        }
      ]
    },
    {
      "cell_type": "code",
      "source": [
        "# Import necessary libraries\n",
        "import pandas as pd\n",
        "import matplotlib.pyplot as plt\n",
        "import seaborn as sns\n",
        "from google.colab import files\n",
        "# Load the Airbnb listings data\n",
        "uploaded=files.upload()\n",
        "# Get the list of uploaded filenames\n",
        "uploaded_filenames = list(uploaded.keys())\n",
        "import pandas as pd\n",
        "# Print the list of filenames\n",
        "print(uploaded_filenames)\n",
        "######################################\n",
        "uploaded_csv_content = uploaded[uploaded_filenames[0]]\n",
        "# Prompt user for file path\n",
        "filename = uploaded_filenames[0]\n",
        "df = pd.read_csv(filename)\n",
        "# Display basic information about the dataset\n",
        "print(df.info())\n"
      ],
      "metadata": {
        "colab": {
          "base_uri": "https://localhost:8080/",
          "height": 274
        },
        "id": "vNcxFmyBTBrD",
        "outputId": "4b536946-0e2e-4fe9-f02a-dd43b79af1d4"
      },
      "execution_count": null,
      "outputs": [
        {
          "output_type": "display_data",
          "data": {
            "text/plain": [
              "<IPython.core.display.HTML object>"
            ],
            "text/html": [
              "\n",
              "     <input type=\"file\" id=\"files-62e031d2-1bbd-4774-9c24-c7c8d8f11aff\" name=\"files[]\" multiple disabled\n",
              "        style=\"border:none\" />\n",
              "     <output id=\"result-62e031d2-1bbd-4774-9c24-c7c8d8f11aff\">\n",
              "      Upload widget is only available when the cell has been executed in the\n",
              "      current browser session. Please rerun this cell to enable.\n",
              "      </output>\n",
              "      <script>// Copyright 2017 Google LLC\n",
              "//\n",
              "// Licensed under the Apache License, Version 2.0 (the \"License\");\n",
              "// you may not use this file except in compliance with the License.\n",
              "// You may obtain a copy of the License at\n",
              "//\n",
              "//      http://www.apache.org/licenses/LICENSE-2.0\n",
              "//\n",
              "// Unless required by applicable law or agreed to in writing, software\n",
              "// distributed under the License is distributed on an \"AS IS\" BASIS,\n",
              "// WITHOUT WARRANTIES OR CONDITIONS OF ANY KIND, either express or implied.\n",
              "// See the License for the specific language governing permissions and\n",
              "// limitations under the License.\n",
              "\n",
              "/**\n",
              " * @fileoverview Helpers for google.colab Python module.\n",
              " */\n",
              "(function(scope) {\n",
              "function span(text, styleAttributes = {}) {\n",
              "  const element = document.createElement('span');\n",
              "  element.textContent = text;\n",
              "  for (const key of Object.keys(styleAttributes)) {\n",
              "    element.style[key] = styleAttributes[key];\n",
              "  }\n",
              "  return element;\n",
              "}\n",
              "\n",
              "// Max number of bytes which will be uploaded at a time.\n",
              "const MAX_PAYLOAD_SIZE = 100 * 1024;\n",
              "\n",
              "function _uploadFiles(inputId, outputId) {\n",
              "  const steps = uploadFilesStep(inputId, outputId);\n",
              "  const outputElement = document.getElementById(outputId);\n",
              "  // Cache steps on the outputElement to make it available for the next call\n",
              "  // to uploadFilesContinue from Python.\n",
              "  outputElement.steps = steps;\n",
              "\n",
              "  return _uploadFilesContinue(outputId);\n",
              "}\n",
              "\n",
              "// This is roughly an async generator (not supported in the browser yet),\n",
              "// where there are multiple asynchronous steps and the Python side is going\n",
              "// to poll for completion of each step.\n",
              "// This uses a Promise to block the python side on completion of each step,\n",
              "// then passes the result of the previous step as the input to the next step.\n",
              "function _uploadFilesContinue(outputId) {\n",
              "  const outputElement = document.getElementById(outputId);\n",
              "  const steps = outputElement.steps;\n",
              "\n",
              "  const next = steps.next(outputElement.lastPromiseValue);\n",
              "  return Promise.resolve(next.value.promise).then((value) => {\n",
              "    // Cache the last promise value to make it available to the next\n",
              "    // step of the generator.\n",
              "    outputElement.lastPromiseValue = value;\n",
              "    return next.value.response;\n",
              "  });\n",
              "}\n",
              "\n",
              "/**\n",
              " * Generator function which is called between each async step of the upload\n",
              " * process.\n",
              " * @param {string} inputId Element ID of the input file picker element.\n",
              " * @param {string} outputId Element ID of the output display.\n",
              " * @return {!Iterable<!Object>} Iterable of next steps.\n",
              " */\n",
              "function* uploadFilesStep(inputId, outputId) {\n",
              "  const inputElement = document.getElementById(inputId);\n",
              "  inputElement.disabled = false;\n",
              "\n",
              "  const outputElement = document.getElementById(outputId);\n",
              "  outputElement.innerHTML = '';\n",
              "\n",
              "  const pickedPromise = new Promise((resolve) => {\n",
              "    inputElement.addEventListener('change', (e) => {\n",
              "      resolve(e.target.files);\n",
              "    });\n",
              "  });\n",
              "\n",
              "  const cancel = document.createElement('button');\n",
              "  inputElement.parentElement.appendChild(cancel);\n",
              "  cancel.textContent = 'Cancel upload';\n",
              "  const cancelPromise = new Promise((resolve) => {\n",
              "    cancel.onclick = () => {\n",
              "      resolve(null);\n",
              "    };\n",
              "  });\n",
              "\n",
              "  // Wait for the user to pick the files.\n",
              "  const files = yield {\n",
              "    promise: Promise.race([pickedPromise, cancelPromise]),\n",
              "    response: {\n",
              "      action: 'starting',\n",
              "    }\n",
              "  };\n",
              "\n",
              "  cancel.remove();\n",
              "\n",
              "  // Disable the input element since further picks are not allowed.\n",
              "  inputElement.disabled = true;\n",
              "\n",
              "  if (!files) {\n",
              "    return {\n",
              "      response: {\n",
              "        action: 'complete',\n",
              "      }\n",
              "    };\n",
              "  }\n",
              "\n",
              "  for (const file of files) {\n",
              "    const li = document.createElement('li');\n",
              "    li.append(span(file.name, {fontWeight: 'bold'}));\n",
              "    li.append(span(\n",
              "        `(${file.type || 'n/a'}) - ${file.size} bytes, ` +\n",
              "        `last modified: ${\n",
              "            file.lastModifiedDate ? file.lastModifiedDate.toLocaleDateString() :\n",
              "                                    'n/a'} - `));\n",
              "    const percent = span('0% done');\n",
              "    li.appendChild(percent);\n",
              "\n",
              "    outputElement.appendChild(li);\n",
              "\n",
              "    const fileDataPromise = new Promise((resolve) => {\n",
              "      const reader = new FileReader();\n",
              "      reader.onload = (e) => {\n",
              "        resolve(e.target.result);\n",
              "      };\n",
              "      reader.readAsArrayBuffer(file);\n",
              "    });\n",
              "    // Wait for the data to be ready.\n",
              "    let fileData = yield {\n",
              "      promise: fileDataPromise,\n",
              "      response: {\n",
              "        action: 'continue',\n",
              "      }\n",
              "    };\n",
              "\n",
              "    // Use a chunked sending to avoid message size limits. See b/62115660.\n",
              "    let position = 0;\n",
              "    do {\n",
              "      const length = Math.min(fileData.byteLength - position, MAX_PAYLOAD_SIZE);\n",
              "      const chunk = new Uint8Array(fileData, position, length);\n",
              "      position += length;\n",
              "\n",
              "      const base64 = btoa(String.fromCharCode.apply(null, chunk));\n",
              "      yield {\n",
              "        response: {\n",
              "          action: 'append',\n",
              "          file: file.name,\n",
              "          data: base64,\n",
              "        },\n",
              "      };\n",
              "\n",
              "      let percentDone = fileData.byteLength === 0 ?\n",
              "          100 :\n",
              "          Math.round((position / fileData.byteLength) * 100);\n",
              "      percent.textContent = `${percentDone}% done`;\n",
              "\n",
              "    } while (position < fileData.byteLength);\n",
              "  }\n",
              "\n",
              "  // All done.\n",
              "  yield {\n",
              "    response: {\n",
              "      action: 'complete',\n",
              "    }\n",
              "  };\n",
              "}\n",
              "\n",
              "scope.google = scope.google || {};\n",
              "scope.google.colab = scope.google.colab || {};\n",
              "scope.google.colab._files = {\n",
              "  _uploadFiles,\n",
              "  _uploadFilesContinue,\n",
              "};\n",
              "})(self);\n",
              "</script> "
            ]
          },
          "metadata": {}
        },
        {
          "output_type": "stream",
          "name": "stdout",
          "text": [
            "Saving data.csv to data.csv\n",
            "['data.csv']\n",
            "<class 'pandas.core.frame.DataFrame'>\n",
            "RangeIndex: 20 entries, 0 to 19\n",
            "Data columns (total 2 columns):\n",
            " #   Column  Non-Null Count  Dtype\n",
            "---  ------  --------------  -----\n",
            " 0   days    20 non-null     int64\n",
            " 1   length  20 non-null     int64\n",
            "dtypes: int64(2)\n",
            "memory usage: 448.0 bytes\n",
            "None\n"
          ]
        }
      ]
    }
  ]
}